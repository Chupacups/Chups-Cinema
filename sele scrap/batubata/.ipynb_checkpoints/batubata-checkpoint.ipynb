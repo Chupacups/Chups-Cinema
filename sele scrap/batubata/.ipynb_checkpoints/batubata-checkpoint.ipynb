{
 "cells": [
  {
   "cell_type": "code",
   "execution_count": 406,
   "metadata": {},
   "outputs": [],
   "source": [
    "from selenium import webdriver"
   ]
  },
  {
   "cell_type": "code",
   "execution_count": 407,
   "metadata": {},
   "outputs": [],
   "source": [
    "from selenium.common.exceptions import NoSuchElementException"
   ]
  },
  {
   "cell_type": "code",
   "execution_count": 408,
   "metadata": {},
   "outputs": [],
   "source": [
    "import json"
   ]
  },
  {
   "cell_type": "code",
   "execution_count": 409,
   "metadata": {},
   "outputs": [],
   "source": [
    "import re"
   ]
  },
  {
   "cell_type": "code",
   "execution_count": 410,
   "metadata": {},
   "outputs": [],
   "source": [
    "import urllib.request"
   ]
  },
  {
   "cell_type": "code",
   "execution_count": 411,
   "metadata": {},
   "outputs": [],
   "source": [
    "url = \"https://www.bata.id/men/category/sandal\""
   ]
  },
  {
   "cell_type": "code",
   "execution_count": 412,
   "metadata": {},
   "outputs": [],
   "source": [
    "driver = webdriver.PhantomJS()"
   ]
  },
  {
   "cell_type": "code",
   "execution_count": 413,
   "metadata": {},
   "outputs": [],
   "source": [
    "driver.implicitly_wait(10)"
   ]
  },
  {
   "cell_type": "code",
   "execution_count": 414,
   "metadata": {},
   "outputs": [],
   "source": [
    "driver.get(url)"
   ]
  },
  {
   "cell_type": "code",
   "execution_count": 415,
   "metadata": {},
   "outputs": [
    {
     "name": "stdout",
     "output_type": "stream",
     "text": [
      "https://www.bata.id/men/category/sandal\n"
     ]
    }
   ],
   "source": [
    "print(driver.current_url)"
   ]
  },
  {
   "cell_type": "code",
   "execution_count": 416,
   "metadata": {},
   "outputs": [],
   "source": [
    "products = []\n",
    "images = []"
   ]
  },
  {
   "cell_type": "code",
   "execution_count": 417,
   "metadata": {},
   "outputs": [],
   "source": [
    "while True:    \n",
    "    for product in driver.find_elements_by_xpath(\"//div[@class='product details product-item-details']\"):\n",
    "        if product.text != '':\n",
    "            details = re.split('\\n',product.text)\n",
    "            if(len(details) == 2):\n",
    "                products.append(\n",
    "                {\n",
    "                    'Model': details[0],\n",
    "                    'Harga': details[1],\n",
    "                })\n",
    "    try:\n",
    "        driver.find_element_by_xpath(\"//a[@class='action  next']\").click()\n",
    "    except NoSuchElementException as e:\n",
    "        break;"
   ]
  },
  {
   "cell_type": "code",
   "execution_count": 418,
   "metadata": {},
   "outputs": [
    {
     "data": {
      "text/plain": [
       "[{'Model': 'Bata Comfit Camer', 'Harga': 'Rp349,900'},\n",
       " {'Model': 'Bata Comfit Ricco Ml R.Upper', 'Harga': 'Rp199,900'},\n",
       " {'Model': 'Bata Comfit Ricco Ml R.Upper', 'Harga': 'Rp199,900'},\n",
       " {'Model': 'Bata Comfit Ricco Ml R.Upper', 'Harga': 'Rp199,900'},\n",
       " {'Model': 'Bata Comfit Rob Comp', 'Harga': 'Rp199,900'},\n",
       " {'Model': 'Bata Comfit Rob Comp', 'Harga': 'Rp199,900'},\n",
       " {'Model': 'Bata Creta', 'Harga': 'Rp99,900'},\n",
       " {'Model': 'Bata Energyzer Black', 'Harga': 'Rp149,900'},\n",
       " {'Model': 'Bata Moro', 'Harga': 'Rp179,900'},\n",
       " {'Model': 'Bata Moro', 'Harga': 'Rp179,900'},\n",
       " {'Model': 'Bata Phytagoras Sb R. Upper', 'Harga': 'Rp179,900'},\n",
       " {'Model': 'Bata Piete', 'Harga': 'Rp179,900'},\n",
       " {'Model': 'Bata Piete', 'Harga': 'Rp179,900'},\n",
       " {'Model': 'Bata Piete', 'Harga': 'Rp179,900'},\n",
       " {'Model': 'Bata Portugal Babuschie', 'Harga': 'Rp149,900'},\n",
       " {'Model': 'Bata Portugal Babuschie', 'Harga': 'Rp149,900'},\n",
       " {'Model': 'Bata Portugal Ml R.', 'Harga': 'Rp179,900'},\n",
       " {'Model': 'Bata Pressley', 'Harga': 'Rp129,900'},\n",
       " {'Model': 'Bata Qanza Tp R.Upp+Ins', 'Harga': 'Rp179,900'},\n",
       " {'Model': 'Bata Qatar', 'Harga': 'Rp199,900'},\n",
       " {'Model': 'Bata Quadron R.Upper', 'Harga': 'Rp149,900'},\n",
       " {'Model': 'Bata Quadron R.Upper', 'Harga': 'Rp149,900'},\n",
       " {'Model': 'Bata Quadron R.Upper', 'Harga': 'Rp99,900'},\n",
       " {'Model': 'Bata Quentin R.Upper', 'Harga': 'Rp199,900'},\n",
       " {'Model': 'Bata Quentin R.Upper', 'Harga': 'Rp199,900'},\n",
       " {'Model': 'Bata Quentin', 'Harga': 'Rp129,900'},\n",
       " {'Model': 'Bata Quiver R.Upper', 'Harga': 'Rp199,900'},\n",
       " {'Model': 'Bata Ramses', 'Harga': 'Rp179,900'},\n",
       " {'Model': 'Bata Ramses', 'Harga': 'Rp179,900'},\n",
       " {'Model': 'Bata Repro Tp R. Upper', 'Harga': 'Rp149,900'},\n",
       " {'Model': 'Bata Repro Tp R. Upper', 'Harga': 'Rp149,900'},\n",
       " {'Model': 'Bata Repro Tp R. Upper', 'Harga': 'Rp149,900'},\n",
       " {'Model': 'Bata Riviera', 'Harga': 'Rp199,900'},\n",
       " {'Model': 'Bata Riviera', 'Harga': 'Rp199,900'},\n",
       " {'Model': 'Bata Riviera', 'Harga': 'Rp179,900'},\n",
       " {'Model': 'Bata Riviera', 'Harga': 'Rp179,900'},\n",
       " {'Model': 'Bata Riviera', 'Harga': 'Rp199,900'},\n",
       " {'Model': 'Bata Rob Comp', 'Harga': 'Rp199,900'},\n",
       " {'Model': 'Bata Rob Comp', 'Harga': 'Rp199,900'},\n",
       " {'Model': 'Bata Ruckus', 'Harga': 'Rp149,900'},\n",
       " {'Model': 'Bata Ruckus', 'Harga': 'Rp149,900'},\n",
       " {'Model': 'Bata Rui', 'Harga': 'Rp129,900'},\n",
       " {'Model': 'Bata Rui', 'Harga': 'Rp129,900'},\n",
       " {'Model': 'Bata Priatravel Dons', 'Harga': 'Rp119,900'},\n",
       " {'Model': 'Bata Skoda Z Tp', 'Harga': 'Rp99,900'},\n",
       " {'Model': 'Bata Skoda Comp', 'Harga': 'Rp99,900'},\n",
       " {'Model': 'Bata Travel', 'Harga': 'Rp100,000'},\n",
       " {'Model': 'Bata Travel Dons Bt', 'Harga': 'Rp119,900'},\n",
       " {'Model': 'Bata W Travel', 'Harga': 'Rp100,000'},\n",
       " {'Model': 'Weinbrenner Oregon Comp', 'Harga': 'Rp179,900'}]"
      ]
     },
     "execution_count": 418,
     "metadata": {},
     "output_type": "execute_result"
    }
   ],
   "source": [
    "products"
   ]
  }
 ],
 "metadata": {
  "kernelspec": {
   "display_name": "Python 3",
   "language": "python",
   "name": "python3"
  },
  "language_info": {
   "codemirror_mode": {
    "name": "ipython",
    "version": 3
   },
   "file_extension": ".py",
   "mimetype": "text/x-python",
   "name": "python",
   "nbconvert_exporter": "python",
   "pygments_lexer": "ipython3",
   "version": "3.8.2"
  }
 },
 "nbformat": 4,
 "nbformat_minor": 4
}
