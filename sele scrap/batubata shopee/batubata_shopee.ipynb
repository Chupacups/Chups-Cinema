{
 "cells": [
  {
   "cell_type": "code",
   "execution_count": 120,
   "metadata": {},
   "outputs": [],
   "source": [
    "from selenium import webdriver"
   ]
  },
  {
   "cell_type": "code",
   "execution_count": 121,
   "metadata": {},
   "outputs": [],
   "source": [
    "from selenium.common.exceptions import NoSuchElementException"
   ]
  },
  {
   "cell_type": "code",
   "execution_count": 122,
   "metadata": {},
   "outputs": [],
   "source": [
    "import json"
   ]
  },
  {
   "cell_type": "code",
   "execution_count": 123,
   "metadata": {},
   "outputs": [],
   "source": [
    "import re"
   ]
  },
  {
   "cell_type": "code",
   "execution_count": 124,
   "metadata": {},
   "outputs": [],
   "source": [
    "import urllib.request"
   ]
  },
  {
   "cell_type": "code",
   "execution_count": 125,
   "metadata": {},
   "outputs": [],
   "source": [
    "url = \"https://shopee.co.id/shop/27501829/search?shopCollection=17993674\""
   ]
  },
  {
   "cell_type": "code",
   "execution_count": 126,
   "metadata": {},
   "outputs": [],
   "source": [
    "driver = webdriver.PhantomJS()"
   ]
  },
  {
   "cell_type": "code",
   "execution_count": 127,
   "metadata": {},
   "outputs": [],
   "source": [
    "driver.implicitly_wait(10)"
   ]
  },
  {
   "cell_type": "code",
   "execution_count": 128,
   "metadata": {},
   "outputs": [],
   "source": [
    "driver.get(url)"
   ]
  },
  {
   "cell_type": "code",
   "execution_count": 129,
   "metadata": {},
   "outputs": [
    {
     "name": "stdout",
     "output_type": "stream",
     "text": [
      "https://shopee.co.id/shop/27501829/search?shopCollection=17993674\n"
     ]
    }
   ],
   "source": [
    "print(driver.current_url)"
   ]
  },
  {
   "cell_type": "code",
   "execution_count": 130,
   "metadata": {},
   "outputs": [],
   "source": [
    "products = []"
   ]
  },
  {
   "cell_type": "code",
   "execution_count": 131,
   "metadata": {},
   "outputs": [],
   "source": [
    "for product in driver.find_elements_by_xpath(\"//div[@class='_3eufr2']\"):\n",
    "    if product.text != '':\n",
    "        details = re.split('\\n',product.text)\n",
    "        if(len(details) == 5):\n",
    "            products.append(\n",
    "            {\n",
    "                'Model': details[0],\n",
    "                'Harga': details[1],\n",
    "                'Harga_diskon': details[2],\n",
    "                'Terjual': details[3],\n",
    "                'Kota': details[4],\n",
    "            })"
   ]
  },
  {
   "cell_type": "code",
   "execution_count": 132,
   "metadata": {},
   "outputs": [
    {
     "data": {
      "text/plain": [
       "[{'Model': 'Bata Sandal Gunung Pria Energyzer Black 8736077',\n",
       "  'Harga': 'Rp299.900',\n",
       "  'Harga_diskon': 'Rp114.900',\n",
       "  'Terjual': '1,7RB Terjual',\n",
       "  'Kota': 'KOTA JAKARTA UTARA'},\n",
       " {'Model': 'Bata Sandal Pria Skip Brown - 8714196',\n",
       "  'Harga': 'Rp249.900',\n",
       "  'Harga_diskon': 'Rp120.000',\n",
       "  'Terjual': '2,3RB Terjual',\n",
       "  'Kota': 'KOTA JAKARTA UTARA'},\n",
       " {'Model': 'Bata Sandal Gunung Pria Energyzer Brown 8734077',\n",
       "  'Harga': 'Rp299.900',\n",
       "  'Harga_diskon': 'Rp140.000',\n",
       "  'Terjual': '1,1RB Terjual',\n",
       "  'Kota': 'KOTA JAKARTA UTARA'},\n",
       " {'Model': 'Bata Sandal Pria Energyzer - 8736076',\n",
       "  'Harga': 'Rp179.900',\n",
       "  'Harga_diskon': 'Rp140.000',\n",
       "  'Terjual': '791 Terjual',\n",
       "  'Kota': 'KOTA JAKARTA UTARA'},\n",
       " {'Model': 'Bata Sandal Pria Energyzer - 8734076',\n",
       "  'Harga': 'Rp299.900',\n",
       "  'Harga_diskon': 'Rp140.000',\n",
       "  'Terjual': '512 Terjual',\n",
       "  'Kota': 'KOTA JAKARTA UTARA'},\n",
       " {'Model': 'BataSandal Pria Skip Brown - 8714195',\n",
       "  'Harga': 'Rp249.900',\n",
       "  'Harga_diskon': 'Rp120.000',\n",
       "  'Terjual': '496 Terjual',\n",
       "  'Kota': 'KOTA JAKARTA UTARA'},\n",
       " {'Model': 'Power Sandal Pria Helios L Navy White 8719192',\n",
       "  'Harga': 'Rp249.900',\n",
       "  'Harga_diskon': 'Rp120.000',\n",
       "  'Terjual': '330 Terjual',\n",
       "  'Kota': 'KOTA JAKARTA UTARA'},\n",
       " {'Model': 'Bata Sandal Pria Smith Navy - 8729403',\n",
       "  'Harga': 'Rp149.900',\n",
       "  'Harga_diskon': 'Rp120.000',\n",
       "  'Terjual': '180 Terjual',\n",
       "  'Kota': 'KOTA JAKARTA UTARA'},\n",
       " {'Model': 'Power Sandal Pria HeLios - L Red Black 8716192',\n",
       "  'Harga': 'Rp249.900',\n",
       "  'Harga_diskon': 'Rp120.000',\n",
       "  'Terjual': '238 Terjual',\n",
       "  'Kota': 'KOTA JAKARTA UTARA'},\n",
       " {'Model': 'Bata Sandal Pria Sharkan - 8727401',\n",
       "  'Harga': 'Rp249.900',\n",
       "  'Harga_diskon': 'Rp120.000',\n",
       "  'Terjual': '146 Terjual',\n",
       "  'Kota': 'KOTA JAKARTA UTARA'},\n",
       " {'Model': 'Weinbrenner Sandal Pria Mason Brown - 8744048',\n",
       "  'Harga': 'Rp749.900',\n",
       "  'Harga_diskon': 'Rp480.000',\n",
       "  'Terjual': '9 Terjual',\n",
       "  'Kota': 'KOTA JAKARTA UTARA'},\n",
       " {'Model': 'Weinbrenner Sandal Pria Ariza Brown - 8734030',\n",
       "  'Harga': 'Rp749.900',\n",
       "  'Harga_diskon': 'Rp480.000',\n",
       "  'Terjual': '9 Terjual',\n",
       "  'Kota': 'KOTA JAKARTA UTARA'},\n",
       " {'Model': 'Weinbrenner Sandal Pria Ariza Black - 8736030',\n",
       "  'Harga': 'Rp749.900',\n",
       "  'Harga_diskon': 'Rp480.000',\n",
       "  'Terjual': '8 Terjual',\n",
       "  'Kota': 'KOTA JAKARTA UTARA'}]"
      ]
     },
     "execution_count": 132,
     "metadata": {},
     "output_type": "execute_result"
    }
   ],
   "source": [
    "products"
   ]
  },
  {
   "cell_type": "code",
   "execution_count": 133,
   "metadata": {},
   "outputs": [],
   "source": [
    "with open('batubata_shopee.json', 'w') as file:\n",
    "    json.dump(products, file, indent=4)"
   ]
  }
 ],
 "metadata": {
  "kernelspec": {
   "display_name": "Python 3",
   "language": "python",
   "name": "python3"
  },
  "language_info": {
   "codemirror_mode": {
    "name": "ipython",
    "version": 3
   },
   "file_extension": ".py",
   "mimetype": "text/x-python",
   "name": "python",
   "nbconvert_exporter": "python",
   "pygments_lexer": "ipython3",
   "version": "3.8.2"
  }
 },
 "nbformat": 4,
 "nbformat_minor": 4
}
